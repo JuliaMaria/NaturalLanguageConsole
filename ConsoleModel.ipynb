{
 "cells": [
  {
   "cell_type": "code",
   "execution_count": 1,
   "metadata": {},
   "outputs": [],
   "source": [
    "import pandas as pd\n",
    "import re\n",
    "import pickle\n",
    "import os\n",
    "import numpy as np\n",
    "import tensorflow as tf\n",
    "import tensorflow_hub as hub"
   ]
  },
  {
   "cell_type": "code",
   "execution_count": 2,
   "metadata": {},
   "outputs": [],
   "source": [
    "# os.environ[\"TFHUB_CACHE_DIR\"] = r'C:\\Users\\jmay2\\Documents\\TFHub_downloads'\n",
    "# module_url = \"https://tfhub.dev/google/universal-sentence-encoder/3\"\n",
    "# embed = hub.KerasLayer(module_url)"
   ]
  },
  {
   "cell_type": "code",
   "execution_count": 3,
   "metadata": {},
   "outputs": [],
   "source": [
    "embed = hub.KerasLayer(r'C:\\Users\\jmay2\\Documents\\TFHub_downloads\\42480c3c7f42bf87d36d4c58fc4374b08dae2909')"
   ]
  },
  {
   "cell_type": "code",
   "execution_count": 40,
   "metadata": {},
   "outputs": [],
   "source": [
    "run_program_commands = [r'Run C:\\Program Files\\Mozilla Firefox\\firefox.exe', r'Start C:\\Program Files\\Chrome\\app.exe', r'Open program C:\\Programs\\Application\\start.exe', r'Enter program D:\\Files\\Chrome\\app.exe', r'Launch C:\\Program Files\\Steam\\program.exe']\n",
    "close_program_commands = [r'Close program firefox.exe', r'Shut down program.exe', r'Close application.exe', r'Stop chrome.exe', r'Exit project.exe']\n",
    "open_file_commands = [r'Open file C:\\Users\\jmay2\\Documents\\file.txt', r'Edit C:\\Users\\mary\\Desktop\\document.pdf', r'Show file C:\\Users\\tom\\Downloads\\photo.png', r'Display D:\\Windows\\Files\\MyDocs\\photo.png', r'Open C:\\ProgramData\\Data\\Files\\screenshot.jpg']\n",
    "open_page_commands = [r'Open page https://www.google.com', r'Open https://www.onet.pl', r'Browse https://www.wikipedia.org', r'Navigate to https://pl-pl.facebook.com', r'Go to https://www.youtube.com']"
   ]
  },
  {
   "cell_type": "code",
   "execution_count": 41,
   "metadata": {},
   "outputs": [],
   "source": [
    "X = np.array([*run_program_commands, *close_program_commands, *open_file_commands, *open_page_commands])"
   ]
  },
  {
   "cell_type": "code",
   "execution_count": 42,
   "metadata": {},
   "outputs": [],
   "source": [
    "message_embeddings = embed(X).get('outputs').numpy()"
   ]
  },
  {
   "cell_type": "code",
   "execution_count": 43,
   "metadata": {},
   "outputs": [],
   "source": [
    "X = message_embeddings.tolist()"
   ]
  },
  {
   "cell_type": "code",
   "execution_count": 44,
   "metadata": {},
   "outputs": [],
   "source": [
    "y = [*[0]*len(run_program_commands), *[1]*len(close_program_commands), *[2]*len(open_file_commands), *[3]*len(open_page_commands)]"
   ]
  },
  {
   "cell_type": "code",
   "execution_count": 45,
   "metadata": {},
   "outputs": [
    {
     "data": {
      "text/plain": [
       "[0, 0, 0, 0, 0, 1, 1, 1, 1, 1, 2, 2, 2, 2, 2, 3, 3, 3, 3, 3]"
      ]
     },
     "execution_count": 45,
     "metadata": {},
     "output_type": "execute_result"
    }
   ],
   "source": [
    "print(y)"
   ]
  },
  {
   "cell_type": "code",
   "execution_count": 46,
   "metadata": {},
   "outputs": [
    {
     "data": {
      "text/plain": [
       "KNeighborsClassifier(algorithm='auto', leaf_size=30, metric='minkowski',\n",
       "                     metric_params=None, n_jobs=None, n_neighbors=3, p=2,\n",
       "                     weights='uniform')"
      ]
     },
     "execution_count": 46,
     "metadata": {},
     "output_type": "execute_result"
    }
   ],
   "source": [
    "from sklearn.neighbors import KNeighborsClassifier\n",
    "neigh = KNeighborsClassifier(n_neighbors=3)\n",
    "neigh.fit(X, y)"
   ]
  },
  {
   "cell_type": "code",
   "execution_count": 47,
   "metadata": {},
   "outputs": [],
   "source": [
    "test_command = [r'Please open C:\\Users\\jmay2\\Desktop\\MovieReviewPredictionProject\\notebook.docx']"
   ]
  },
  {
   "cell_type": "code",
   "execution_count": 48,
   "metadata": {},
   "outputs": [],
   "source": [
    "test_command_embedding = embed(test_command).get('outputs').numpy()"
   ]
  },
  {
   "cell_type": "code",
   "execution_count": 49,
   "metadata": {},
   "outputs": [
    {
     "name": "stdout",
     "output_type": "stream",
     "text": [
      "[2]\n",
      "[[0.         0.         0.66666667 0.33333333]]\n"
     ]
    }
   ],
   "source": [
    "print(neigh.predict(test_command_embedding))\n",
    "print(neigh.predict_proba(test_command_embedding))"
   ]
  },
  {
   "cell_type": "code",
   "execution_count": 50,
   "metadata": {},
   "outputs": [],
   "source": [
    "pickle.dump(neigh, open('console_model.sav', 'wb'))"
   ]
  },
  {
   "cell_type": "code",
   "execution_count": null,
   "metadata": {},
   "outputs": [],
   "source": []
  }
 ],
 "metadata": {
  "kernelspec": {
   "display_name": "Python 3",
   "language": "python",
   "name": "python3"
  },
  "language_info": {
   "codemirror_mode": {
    "name": "ipython",
    "version": 3
   },
   "file_extension": ".py",
   "mimetype": "text/x-python",
   "name": "python",
   "nbconvert_exporter": "python",
   "pygments_lexer": "ipython3",
   "version": "3.7.5"
  }
 },
 "nbformat": 4,
 "nbformat_minor": 2
}
