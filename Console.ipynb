{
 "cells": [
  {
   "cell_type": "code",
   "execution_count": 50,
   "metadata": {},
   "outputs": [],
   "source": [
    "import pandas as pd\n",
    "import re\n",
    "import pickle\n",
    "import os\n",
    "import numpy as np\n",
    "import tensorflow as tf\n",
    "import tensorflow_hub as hub\n",
    "import subprocess\n",
    "import webbrowser"
   ]
  },
  {
   "cell_type": "code",
   "execution_count": 51,
   "metadata": {},
   "outputs": [],
   "source": [
    "embed = hub.KerasLayer(r'C:\\Users\\jmay2\\Documents\\TFHub_downloads\\42480c3c7f42bf87d36d4c58fc4374b08dae2909')"
   ]
  },
  {
   "cell_type": "code",
   "execution_count": 52,
   "metadata": {},
   "outputs": [],
   "source": [
    "model = pickle.load(open('console_model.sav', 'rb'))"
   ]
  },
  {
   "cell_type": "code",
   "execution_count": null,
   "metadata": {},
   "outputs": [],
   "source": [
    "command = input('''Please enter command\n",
    "- Filenames, webpage adresses and program names have to be placed in double quotes \"\"\n",
    "- Use full file, program and URL paths to open\n",
    "- Use name of a process running to close a program\\n''')"
   ]
  },
  {
   "cell_type": "code",
   "execution_count": 179,
   "metadata": {},
   "outputs": [],
   "source": [
    "command_embedding = embed([command]).get('outputs').numpy()"
   ]
  },
  {
   "cell_type": "code",
   "execution_count": 180,
   "metadata": {},
   "outputs": [],
   "source": [
    "result = model.predict(command_embedding)[0]"
   ]
  },
  {
   "cell_type": "code",
   "execution_count": 181,
   "metadata": {},
   "outputs": [
    {
     "data": {
      "text/plain": [
       "0"
      ]
     },
     "execution_count": 181,
     "metadata": {},
     "output_type": "execute_result"
    }
   ],
   "source": [
    "result"
   ]
  },
  {
   "cell_type": "code",
   "execution_count": 182,
   "metadata": {},
   "outputs": [],
   "source": [
    "name_regex = re.compile(r'\".+\"')"
   ]
  },
  {
   "cell_type": "code",
   "execution_count": 183,
   "metadata": {},
   "outputs": [],
   "source": [
    "name = re.search(name_regex, command).group(0).strip('\"')"
   ]
  },
  {
   "cell_type": "code",
   "execution_count": 184,
   "metadata": {},
   "outputs": [
    {
     "data": {
      "text/plain": [
       "'C:\\\\Program Files\\\\Mozilla Firefox\\\\firefox.exe'"
      ]
     },
     "execution_count": 184,
     "metadata": {},
     "output_type": "execute_result"
    }
   ],
   "source": [
    "name"
   ]
  },
  {
   "cell_type": "code",
   "execution_count": 185,
   "metadata": {},
   "outputs": [],
   "source": [
    "def open_program(program_name):\n",
    "    try:\n",
    "        os.startfile(program_name)\n",
    "    except:\n",
    "        print('Error')\n",
    "def close_program(program_name):\n",
    "    try:\n",
    "        os.system(\"TASKKILL /F /IM \" + program_name)   \n",
    "    except:\n",
    "        print('Error')\n",
    "def open_file(file_name):\n",
    "    try:\n",
    "        subprocess.check_output(file_name, shell=True)\n",
    "    except:\n",
    "        print('Error')\n",
    "def open_webpage(page_name):\n",
    "    try:\n",
    "        webbrowser.open(page_name)\n",
    "    except:\n",
    "        print('Error')"
   ]
  },
  {
   "cell_type": "code",
   "execution_count": 186,
   "metadata": {},
   "outputs": [],
   "source": [
    "if result == 0:\n",
    "    open_program(name)\n",
    "elif result == 1:\n",
    "    close_program(name)\n",
    "elif result == 2:\n",
    "    open_file(name)\n",
    "elif result == 3:\n",
    "    open_webpage(name)"
   ]
  },
  {
   "cell_type": "code",
   "execution_count": null,
   "metadata": {},
   "outputs": [],
   "source": []
  }
 ],
 "metadata": {
  "kernelspec": {
   "display_name": "Python 3",
   "language": "python",
   "name": "python3"
  },
  "language_info": {
   "codemirror_mode": {
    "name": "ipython",
    "version": 3
   },
   "file_extension": ".py",
   "mimetype": "text/x-python",
   "name": "python",
   "nbconvert_exporter": "python",
   "pygments_lexer": "ipython3",
   "version": "3.7.5"
  }
 },
 "nbformat": 4,
 "nbformat_minor": 2
}
