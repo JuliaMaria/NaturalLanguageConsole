{
 "cells": [
  {
   "cell_type": "code",
   "execution_count": 1,
   "metadata": {},
   "outputs": [],
   "source": [
    "import pandas as pd\n",
    "import re\n",
    "import pickle\n",
    "import os\n",
    "import numpy as np\n",
    "import tensorflow as tf\n",
    "import tensorflow_hub as hub\n",
    "import subprocess\n",
    "import webbrowser"
   ]
  },
  {
   "cell_type": "code",
   "execution_count": 2,
   "metadata": {},
   "outputs": [],
   "source": [
    "embed = hub.KerasLayer(r'C:\\Users\\jmay2\\Documents\\TFHub_downloads\\42480c3c7f42bf87d36d4c58fc4374b08dae2909')"
   ]
  },
  {
   "cell_type": "code",
   "execution_count": 3,
   "metadata": {},
   "outputs": [],
   "source": [
    "model = pickle.load(open('console_model.sav', 'rb'))"
   ]
  },
  {
   "cell_type": "code",
   "execution_count": 4,
   "metadata": {},
   "outputs": [],
   "source": [
    "# C:\\Program Files (x86)\\Google\\Chrome\\Application\\chrome.exe"
   ]
  },
  {
   "cell_type": "code",
   "execution_count": 45,
   "metadata": {},
   "outputs": [
    {
     "name": "stdout",
     "output_type": "stream",
     "text": [
      "Please enter command\n",
      "- Filenames, webpage adresses and program names have to be placed in double quotes \"\"\n",
      "- Use full file, program and URL paths to open\n",
      "- Use name of a process running to close a program\n",
      "Browse \"https://canvas.instructure.com\"\n"
     ]
    }
   ],
   "source": [
    "command = input('''Please enter command\n",
    "- Filenames, webpage adresses and program names have to be placed in double quotes \"\"\n",
    "- Use full file, program and URL paths to open\n",
    "- Use name of a process running to close a program\\n''')"
   ]
  },
  {
   "cell_type": "code",
   "execution_count": 46,
   "metadata": {},
   "outputs": [],
   "source": [
    "command_embedding = embed([command]).get('outputs').numpy()"
   ]
  },
  {
   "cell_type": "code",
   "execution_count": 47,
   "metadata": {},
   "outputs": [],
   "source": [
    "result = model.predict(command_embedding)[0]\n",
    "probs = model.predict_proba(command_embedding)"
   ]
  },
  {
   "cell_type": "code",
   "execution_count": 48,
   "metadata": {},
   "outputs": [
    {
     "name": "stdout",
     "output_type": "stream",
     "text": [
      "3\n"
     ]
    }
   ],
   "source": [
    "print(result)"
   ]
  },
  {
   "cell_type": "code",
   "execution_count": 49,
   "metadata": {},
   "outputs": [
    {
     "name": "stdout",
     "output_type": "stream",
     "text": [
      "[[0. 0. 0. 1.]]\n"
     ]
    }
   ],
   "source": [
    "print(probs)"
   ]
  },
  {
   "cell_type": "code",
   "execution_count": 50,
   "metadata": {},
   "outputs": [],
   "source": [
    "name_regex = re.compile(r'\".+\"')"
   ]
  },
  {
   "cell_type": "code",
   "execution_count": 51,
   "metadata": {},
   "outputs": [],
   "source": [
    "name = re.search(name_regex, command).group(0).strip('\"')"
   ]
  },
  {
   "cell_type": "code",
   "execution_count": 52,
   "metadata": {},
   "outputs": [
    {
     "name": "stdout",
     "output_type": "stream",
     "text": [
      "https://canvas.instructure.com\n"
     ]
    }
   ],
   "source": [
    "print(name)"
   ]
  },
  {
   "cell_type": "code",
   "execution_count": 53,
   "metadata": {},
   "outputs": [],
   "source": [
    "def open_program(program_name):\n",
    "    try:\n",
    "        os.startfile(program_name)\n",
    "    except:\n",
    "        print('Error')\n",
    "def close_program(program_name):\n",
    "    try:\n",
    "        os.system(\"TASKKILL /F /IM \" + program_name)   \n",
    "    except:\n",
    "        print('Error')\n",
    "def open_file(file_name):\n",
    "    try:\n",
    "        subprocess.check_output(file_name, shell=True)\n",
    "    except:\n",
    "        print('Error')\n",
    "def open_webpage(page_name):\n",
    "    try:\n",
    "        webbrowser.open(page_name)\n",
    "    except:\n",
    "        print('Error')"
   ]
  },
  {
   "cell_type": "code",
   "execution_count": 54,
   "metadata": {},
   "outputs": [],
   "source": [
    "if result == 0:\n",
    "    open_program(name)\n",
    "elif result == 1:\n",
    "    close_program(name)\n",
    "elif result == 2:\n",
    "    open_file(name)\n",
    "elif result == 3:\n",
    "    open_webpage(name)"
   ]
  },
  {
   "cell_type": "code",
   "execution_count": null,
   "metadata": {},
   "outputs": [],
   "source": []
  }
 ],
 "metadata": {
  "kernelspec": {
   "display_name": "Python 3",
   "language": "python",
   "name": "python3"
  },
  "language_info": {
   "codemirror_mode": {
    "name": "ipython",
    "version": 3
   },
   "file_extension": ".py",
   "mimetype": "text/x-python",
   "name": "python",
   "nbconvert_exporter": "python",
   "pygments_lexer": "ipython3",
   "version": "3.7.5"
  }
 },
 "nbformat": 4,
 "nbformat_minor": 2
}
